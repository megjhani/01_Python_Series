{
  "nbformat": 4,
  "nbformat_minor": 0,
  "metadata": {
    "kernelspec": {
      "display_name": "Python 3",
      "language": "python",
      "name": "python3"
    },
    "language_info": {
      "codemirror_mode": {
        "name": "ipython",
        "version": 3
      },
      "file_extension": ".py",
      "mimetype": "text/x-python",
      "name": "python",
      "nbconvert_exporter": "python",
      "pygments_lexer": "ipython3",
      "version": "3.7.6"
    },
    "colab": {
      "name": "01_Hello_Python.ipynb",
      "provenance": []
    }
  },
  "cells": [
    {
      "cell_type": "markdown",
      "metadata": {
        "collapsed": false,
        "id": "YsPNayT1CK_9",
        "colab_type": "text"
      },
      "source": [
        "<h1>Hello Python!</h1>\n"
      ]
    },
    {
      "cell_type": "markdown",
      "metadata": {
        "pycharm": {
          "name": "#%% md\n"
        },
        "id": "8U5DLF3pCLAc",
        "colab_type": "text"
      },
      "source": [
        "## <h3> Your First Python Code </h3>\n",
        "<code>print</code> lets you print\n",
        "\n",
        "\n",
        "As with any programming lets start with 'Hello World'"
      ]
    },
    {
      "cell_type": "markdown",
      "metadata": {
        "id": "-k2vYAblCLAi",
        "colab_type": "text"
      },
      "source": [
        "Yaay! <b>Congratulations</b> your first Python code - Let us start exploring this Python now\n",
        "<h3> Which version am I on?</h3>"
      ]
    },
    {
      "cell_type": "code",
      "metadata": {
        "id": "TUpyHBsZCLAi",
        "colab_type": "code",
        "colab": {},
        "outputId": "a9e6d97a-25d1-4ec5-daae-d192c955a738"
      },
      "source": [
        "import sys # we are importing a library here \n",
        "print(sys.version)"
      ],
      "execution_count": 0,
      "outputs": [
        {
          "output_type": "stream",
          "text": [
            "3.7.6 (default, Jan  8 2020, 20:23:39) [MSC v.1916 64 bit (AMD64)]\n"
          ],
          "name": "stdout"
        }
      ]
    },
    {
      "cell_type": "markdown",
      "metadata": {
        "id": "JOJz-d5kCLAl",
        "colab_type": "text"
      },
      "source": [
        "<code>#</code> -> Lets you type the comments, anything after <code>#</code> will not be executed. It is good practice to write the comments so other programmers can understand your code "
      ]
    },
    {
      "cell_type": "markdown",
      "metadata": {
        "id": "N9htwQuyCLAm",
        "colab_type": "text"
      },
      "source": [
        "<hr/>\n",
        "<div class=\"alert alert-success alertsuccess\" style=\"margin-top: 20px\">\n",
        "    [Tip:] <code>sys</code> is a built-in module that contains many system-specific parameters and functions, including the Python version in use.  <code>import</code> call this library and you can then use the funcitons in that code, more on library and functions later.\n",
        "</div>\n",
        "<hr/>"
      ]
    },
    {
      "cell_type": "markdown",
      "metadata": {
        "id": "9IqvTo2NQxyO",
        "colab_type": "text"
      },
      "source": [
        "# Erros in Python\n",
        "\n",
        "**Everyone makes mistakes. **\n",
        "\n",
        "Python will tell you that you have made a mistake by giving you an error message. \n",
        "Read error messages carefully to really understand where you made a mistake and how you may go about correcting it."
      ]
    },
    {
      "cell_type": "code",
      "metadata": {
        "id": "t5dKkeWpQvme",
        "colab_type": "code",
        "colab": {
          "base_uri": "https://localhost:8080/",
          "height": 163
        },
        "outputId": "9ef4d3c5-a797-41d1-d396-93c66f3235c4"
      },
      "source": [
        "frint(sys.version) # instead of 'print' there is a typo"
      ],
      "execution_count": 9,
      "outputs": [
        {
          "output_type": "error",
          "ename": "NameError",
          "evalue": "ignored",
          "traceback": [
            "\u001b[0;31m---------------------------------------------------------------------------\u001b[0m",
            "\u001b[0;31mNameError\u001b[0m                                 Traceback (most recent call last)",
            "\u001b[0;32m<ipython-input-9-5f0971a262b1>\u001b[0m in \u001b[0;36m<module>\u001b[0;34m()\u001b[0m\n\u001b[0;32m----> 1\u001b[0;31m \u001b[0mfrint\u001b[0m\u001b[0;34m(\u001b[0m\u001b[0msys\u001b[0m\u001b[0;34m.\u001b[0m\u001b[0mversion\u001b[0m\u001b[0;34m)\u001b[0m \u001b[0;31m# instead of 'print' there is a typo\u001b[0m\u001b[0;34m\u001b[0m\u001b[0;34m\u001b[0m\u001b[0m\n\u001b[0m",
            "\u001b[0;31mNameError\u001b[0m: name 'frint' is not defined"
          ]
        }
      ]
    },
    {
      "cell_type": "markdown",
      "metadata": {
        "pycharm": {
          "name": "#%% md\n"
        },
        "id": "xEMHUQyTCLAr",
        "colab_type": "text"
      },
      "source": [
        "# Primitive"
      ]
    },
    {
      "cell_type": "markdown",
      "metadata": {
        "id": "BE39qw6xWV6S",
        "colab_type": "text"
      },
      "source": [
        "## Figure"
      ]
    },
    {
      "cell_type": "markdown",
      "metadata": {
        "id": "CDv7USkF4eoM",
        "colab_type": "text"
      },
      "source": [
        "<img src =\"https://raw.githubusercontent.com/megjhani/01_Python_Series/master/presentation/images/01_Data_Types.PNG\">"
      ]
    },
    {
      "cell_type": "markdown",
      "metadata": {
        "id": "WVoKlhMhV-Zw",
        "colab_type": "text"
      },
      "source": [
        "## Examples"
      ]
    },
    {
      "cell_type": "code",
      "metadata": {
        "pycharm": {
          "name": "#%%\n"
        },
        "id": "MjuO6RWHCLAs",
        "colab_type": "code",
        "outputId": "aa4403b4-0d5f-4d94-97b0-72d1780f4b69",
        "colab": {}
      },
      "source": [
        "7 # this is an integer\n",
        "4.3 # this a float\n",
        "True # this ia boolean\n",
        "'Hello Python'"
      ],
      "execution_count": 0,
      "outputs": [
        {
          "output_type": "execute_result",
          "data": {
            "text/plain": [
              "'Hello Python'"
            ]
          },
          "metadata": {
            "tags": []
          },
          "execution_count": 8
        }
      ]
    },
    {
      "cell_type": "markdown",
      "metadata": {
        "id": "xYXppLxCUnMm",
        "colab_type": "text"
      },
      "source": [
        "Chek the <code> type </code> and <code> id</code> of different data types"
      ]
    },
    {
      "cell_type": "code",
      "metadata": {
        "id": "VdO1W4tjCLAv",
        "colab_type": "code",
        "outputId": "3e3da798-eb93-4c00-b88c-07f9b8a24a9a",
        "colab": {}
      },
      "source": [
        "type(7)"
      ],
      "execution_count": 0,
      "outputs": [
        {
          "output_type": "execute_result",
          "data": {
            "text/plain": [
              "int"
            ]
          },
          "metadata": {
            "tags": []
          },
          "execution_count": 9
        }
      ]
    },
    {
      "cell_type": "code",
      "metadata": {
        "id": "sSPuba-lCLAz",
        "colab_type": "code",
        "outputId": "94f9a6bb-f2c0-4b99-d64e-d89fc4305b52",
        "colab": {
          "base_uri": "https://localhost:8080/",
          "height": 34
        }
      },
      "source": [
        "id(7)"
      ],
      "execution_count": 0,
      "outputs": [
        {
          "output_type": "execute_result",
          "data": {
            "text/plain": [
              "10914688"
            ]
          },
          "metadata": {
            "tags": []
          },
          "execution_count": 7
        }
      ]
    },
    {
      "cell_type": "markdown",
      "metadata": {
        "id": "BPrLDsPNV19A",
        "colab_type": "text"
      },
      "source": [
        "## Exercise"
      ]
    },
    {
      "cell_type": "code",
      "metadata": {
        "id": "FKyPhy38UzFv",
        "colab_type": "code",
        "colab": {}
      },
      "source": [
        "######## EXERCISE Print type and id FOR OTHER DATATYPES \n",
        "#### 1 . Float\n",
        "#### 2 . String\n",
        "#### 3 . FLoat"
      ],
      "execution_count": 0,
      "outputs": []
    },
    {
      "cell_type": "markdown",
      "metadata": {
        "id": "Ic7WXXT5WMFh",
        "colab_type": "text"
      },
      "source": [
        "## Type Casting\n",
        "The process of converting the value of one data type (integer, string, float, etc.) to another data type is called type conversion. Python has two types of type conversion.\n",
        "*   Implicit Type Conversion\n",
        "*   Explicit Type Conversion\n",
        "\n"
      ]
    },
    {
      "cell_type": "markdown",
      "metadata": {
        "id": "hEg3CENnXjcs",
        "colab_type": "text"
      },
      "source": [
        "### Implicit Type Conversion\n",
        "Python automatically converts one data type to another, for example adding a) an integer to a float\n",
        "Python automatically converts the lower data type ( for example int) to higher data type ( float when adding int and float) \n",
        "\n",
        "\n",
        "***Lets see in action***"
      ]
    },
    {
      "cell_type": "code",
      "metadata": {
        "id": "NSle-AW1Xe3c",
        "colab_type": "code",
        "colab": {
          "base_uri": "https://localhost:8080/",
          "height": 51
        },
        "outputId": "92230dae-9738-43b6-8196-f91f8fd71b63"
      },
      "source": [
        "#Implicit Type Conversion\n",
        "print(type(1)) # this is an int\n",
        "print(type(1+2.2)) # this is a flaot\n"
      ],
      "execution_count": 19,
      "outputs": [
        {
          "output_type": "stream",
          "text": [
            "<class 'int'>\n",
            "<class 'float'>\n"
          ],
          "name": "stdout"
        }
      ]
    },
    {
      "cell_type": "markdown",
      "metadata": {
        "id": "K_cSXoELZL7t",
        "colab_type": "text"
      },
      "source": [
        "Let us add a string to an integer"
      ]
    },
    {
      "cell_type": "code",
      "metadata": {
        "id": "ZE5HtdYpXhn1",
        "colab_type": "code",
        "colab": {
          "base_uri": "https://localhost:8080/",
          "height": 163
        },
        "outputId": "ab6d8712-da61-4de6-cd5d-01e31d8f6494"
      },
      "source": [
        "print(1+'a') # execute this and see what happens ? "
      ],
      "execution_count": 20,
      "outputs": [
        {
          "output_type": "error",
          "ename": "TypeError",
          "evalue": "ignored",
          "traceback": [
            "\u001b[0;31m---------------------------------------------------------------------------\u001b[0m",
            "\u001b[0;31mTypeError\u001b[0m                                 Traceback (most recent call last)",
            "\u001b[0;32m<ipython-input-20-e8a28ed86ffd>\u001b[0m in \u001b[0;36m<module>\u001b[0;34m()\u001b[0m\n\u001b[0;32m----> 1\u001b[0;31m \u001b[0mprint\u001b[0m\u001b[0;34m(\u001b[0m\u001b[0;36m1\u001b[0m\u001b[0;34m+\u001b[0m\u001b[0;34m'a'\u001b[0m\u001b[0;34m)\u001b[0m \u001b[0;31m# execute this and see what happens ?\u001b[0m\u001b[0;34m\u001b[0m\u001b[0;34m\u001b[0m\u001b[0m\n\u001b[0m",
            "\u001b[0;31mTypeError\u001b[0m: unsupported operand type(s) for +: 'int' and 'str'"
          ]
        }
      ]
    },
    {
      "cell_type": "markdown",
      "metadata": {
        "id": "qocP8S5lZWTd",
        "colab_type": "text"
      },
      "source": [
        "Errors out as it cannot addd a string to a number"
      ]
    },
    {
      "cell_type": "markdown",
      "metadata": {
        "id": "lAI9aP4wZinL",
        "colab_type": "text"
      },
      "source": [
        "### Explicit Type Conversion\n",
        "\n",
        "Users explicitly convert the data type of one object to another. We use the predefined functions like `int()`, `float()`, `str()`, etc to perform explicit type conversion.\n",
        "\n",
        "This type of conversion is also called typecasting because the user casts (changes) the data type of the objects."
      ]
    },
    {
      "cell_type": "code",
      "metadata": {
        "id": "FNQJ4rmjZUah",
        "colab_type": "code",
        "colab": {
          "base_uri": "https://localhost:8080/",
          "height": 51
        },
        "outputId": "b5d3d433-a5e4-4813-bc15-856f757712ed"
      },
      "source": [
        "print(int('1')+2) # changing string to an integer\n",
        "print(type(int('1')+2))"
      ],
      "execution_count": 25,
      "outputs": [
        {
          "output_type": "stream",
          "text": [
            "3\n",
            "<class 'int'>\n"
          ],
          "name": "stdout"
        }
      ]
    },
    {
      "cell_type": "code",
      "metadata": {
        "id": "VmLstrJmZyzI",
        "colab_type": "code",
        "colab": {
          "base_uri": "https://localhost:8080/",
          "height": 51
        },
        "outputId": "341cc288-4540-4729-f482-cd08508320a3"
      },
      "source": [
        "print('1'+str(2)) # try to guess the output first before executing this line of code; # this changes integer to string\n",
        "print(type(('1'+str(2))))"
      ],
      "execution_count": 26,
      "outputs": [
        {
          "output_type": "stream",
          "text": [
            "12\n",
            "<class 'str'>\n"
          ],
          "name": "stdout"
        }
      ]
    },
    {
      "cell_type": "markdown",
      "metadata": {
        "id": "b3Ri4i9HaYb8",
        "colab_type": "text"
      },
      "source": [
        "Two similar looking code with different output, it is at users discretion as to what they want from their program "
      ]
    },
    {
      "cell_type": "markdown",
      "metadata": {
        "id": "0jMsyzaebC6z",
        "colab_type": "text"
      },
      "source": [
        "# Variables\n",
        "\n",
        "\n",
        "\n"
      ]
    },
    {
      "cell_type": "markdown",
      "metadata": {
        "id": "adj4jJkAkPpF",
        "colab_type": "text"
      },
      "source": [
        "\n",
        "Container for storing the data, for example\n",
        "\n",
        "`a = 1`\n",
        "\n",
        "In the above code `a` is assigned a value of `1`. \n",
        "\n",
        "Variable can be a short name like `a` or can be more descriptive like `age` , `gender`, and so on\n",
        "\n",
        "`age = 22` <br>\n",
        "`gender = 'F'`"
      ]
    },
    {
      "cell_type": "code",
      "metadata": {
        "id": "bveTkFKcaP2g",
        "colab_type": "code",
        "colab": {
          "base_uri": "https://localhost:8080/",
          "height": 34
        },
        "outputId": "e4109728-1946-4cd6-ea49-6f9b2c589d74"
      },
      "source": [
        "## Your first variable\n",
        "a = 1 # this assigns a to 1 \n",
        "age = 23 # this assigns 'age' to 23\n",
        "\n",
        "#next time when you want to add 1 you can directly call 'a' instead\n",
        "\n",
        "print(10+a)"
      ],
      "execution_count": 27,
      "outputs": [
        {
          "output_type": "stream",
          "text": [
            "11\n"
          ],
          "name": "stdout"
        }
      ]
    },
    {
      "cell_type": "markdown",
      "metadata": {
        "id": "hHm6FBjtd5oW",
        "colab_type": "text"
      },
      "source": [
        "## Rules for Variable names\n",
        "\n",
        "*   A variable name must start with a letter or the underscore character\n",
        "*   A variable name cannot start with a number\n",
        "*   A variable name can only contain alpha-numeric characters and underscores (A-z, 0-9, and _ )\n",
        "*   Variable names are case-sensitive (age, Age and AGE are three different variables)\n",
        "\n",
        "\n",
        "\n"
      ]
    },
    {
      "cell_type": "code",
      "metadata": {
        "id": "X1ChCwaBdsmf",
        "colab_type": "code",
        "colab": {}
      },
      "source": [
        "#### EXCERCISE \n",
        "#### 1. CREATE VARIABLES FOR DIFFERENT PRIMITIVE DATA TYPES (INT, FLOAT, BOOLEAN, STRING)\n",
        "\n"
      ],
      "execution_count": 0,
      "outputs": []
    },
    {
      "cell_type": "markdown",
      "metadata": {
        "id": "PGusCTruldy4",
        "colab_type": "text"
      },
      "source": [
        "Execute the following code, annd see if the code works as per your logic\n",
        "\n",
        "`a=1` <br>\n",
        "`b=a` <br> \n",
        "`a=2` <br> \n",
        "\n",
        "What is the value of `a` and what is the value of `b`\n",
        "Repeat the same exercise with different data type\n",
        "\n"
      ]
    },
    {
      "cell_type": "code",
      "metadata": {
        "id": "LCbVVA4hmAUD",
        "colab_type": "code",
        "colab": {
          "base_uri": "https://localhost:8080/",
          "height": 51
        },
        "outputId": "5702cad0-3023-4299-b286-076b7538e37a"
      },
      "source": [
        "### Enter your code here\n",
        "a = 'm'\n",
        "b = 'c'\n",
        "a ='d'\n",
        "print(a)\n",
        "print(b)"
      ],
      "execution_count": 28,
      "outputs": [
        {
          "output_type": "stream",
          "text": [
            "d\n",
            "c\n"
          ],
          "name": "stdout"
        }
      ]
    },
    {
      "cell_type": "markdown",
      "metadata": {
        "id": "Upxh9Fq8j-m0",
        "colab_type": "text"
      },
      "source": [
        "# Expression"
      ]
    },
    {
      "cell_type": "markdown",
      "metadata": {
        "id": "lFRJdAdSmb-x",
        "colab_type": "text"
      },
      "source": [
        "<p>Expressions in Python can include operations among compatible types (e.g., integers and floats). For example, basic arithmetic operations like adding multiple numbers:</p>"
      ]
    },
    {
      "cell_type": "code",
      "metadata": {
        "id": "onUR1Pp2nnP6",
        "colab_type": "code",
        "colab": {
          "base_uri": "https://localhost:8080/",
          "height": 85
        },
        "outputId": "7af60ec6-0c4f-4031-bdb2-ed9bc4f224e8"
      },
      "source": [
        "print(2+3)\n",
        "print(2-3)\n",
        "print(4/3) # internal typecast and converts this to float\n",
        "print(4//3) # this will give integer"
      ],
      "execution_count": 30,
      "outputs": [
        {
          "output_type": "stream",
          "text": [
            "5\n",
            "-1\n",
            "1.3333333333333333\n",
            "1\n"
          ],
          "name": "stdout"
        }
      ]
    },
    {
      "cell_type": "code",
      "metadata": {
        "id": "HhNnnMGZpi_r",
        "colab_type": "code",
        "colab": {}
      },
      "source": [
        "### Exercise \n",
        "# 1. Assign an expression to a variable\n",
        "total_secs_day = 24*60*60\n",
        "j"
      ],
      "execution_count": 0,
      "outputs": []
    },
    {
      "cell_type": "markdown",
      "metadata": {
        "id": "33xCSgItwUVr",
        "colab_type": "text"
      },
      "source": [
        "# String Operations\n"
      ]
    },
    {
      "cell_type": "markdown",
      "metadata": {
        "id": "jcf6E0DmwYXw",
        "colab_type": "text"
      },
      "source": [
        "## Creating and accessing String\n",
        "Python String are arrays of bytes representing Unicode characters. \n",
        "It can be declared with either `'` or `\"` quote <br>\n",
        "e.g. : <br>\n",
        "`mystring = \"Hello Python\"`\n",
        "1. Square brackets can be used to access elements of the string.\n",
        "It can be index from either 0 for going forwared or the negative index shown below\n"
      ]
    },
    {
      "cell_type": "markdown",
      "metadata": {
        "id": "JCwALpqu_Npd",
        "colab_type": "text"
      },
      "source": [
        "<img src =\"https://raw.githubusercontent.com/megjhani/01_Python_Series/master/presentation/images/hello_python_string_access.png\">"
      ]
    },
    {
      "cell_type": "code",
      "metadata": {
        "id": "6RLzjObwqEHN",
        "colab_type": "code",
        "colab": {
          "base_uri": "https://localhost:8080/",
          "height": 51
        },
        "outputId": "3772f15a-6133-4a68-ccb2-8c670440dd34"
      },
      "source": [
        "mystring = \"Hello Python\"\n",
        "print(mystring[0]) # Prints first character  'H'\n",
        "print(mystring[-1]) # Prnts last character 'n' \n",
        "## Try and play with other indices"
      ],
      "execution_count": 45,
      "outputs": [
        {
          "output_type": "stream",
          "text": [
            "H\n",
            "n\n"
          ],
          "name": "stdout"
        }
      ]
    },
    {
      "cell_type": "markdown",
      "metadata": {
        "id": "nhHQrGjjAH27",
        "colab_type": "text"
      },
      "source": [
        "## String Slicing"
      ]
    },
    {
      "cell_type": "markdown",
      "metadata": {
        "id": "Ey93k7hyASsN",
        "colab_type": "text"
      },
      "source": [
        "To access a part of the String (substring)\n",
        "this can be done by colon : `:` \n"
      ]
    },
    {
      "cell_type": "code",
      "metadata": {
        "id": "N0igb9QF_kcA",
        "colab_type": "code",
        "colab": {
          "base_uri": "https://localhost:8080/",
          "height": 51
        },
        "outputId": "3a914cc1-7de9-4c57-d925-faeaf976493f"
      },
      "source": [
        "print(mystring[0:5]) # Prints first 5 character (0,1,2,3,4)\n",
        "print(mystring[5:])\n",
        "\n",
        "#Exercise , work with slicing different part of the mystring "
      ],
      "execution_count": 41,
      "outputs": [
        {
          "output_type": "stream",
          "text": [
            "Hello\n",
            " Python\n"
          ],
          "name": "stdout"
        }
      ]
    },
    {
      "cell_type": "markdown",
      "metadata": {
        "id": "za1rI4qDBnZP",
        "colab_type": "text"
      },
      "source": [
        "## Updating and Deleting"
      ]
    },
    {
      "cell_type": "markdown",
      "metadata": {
        "id": "_27W5VpEBuXs",
        "colab_type": "text"
      },
      "source": [
        "Strings are immutable, Can we change it? Try it !!"
      ]
    },
    {
      "cell_type": "code",
      "metadata": {
        "id": "Z8LsFfL2BBSx",
        "colab_type": "code",
        "colab": {
          "base_uri": "https://localhost:8080/",
          "height": 163
        },
        "outputId": "dad819ce-a817-42fd-f6e0-8ba411fe1801"
      },
      "source": [
        "mystring[0] = 'D' # This should result in an error as Strings are immutable and we cannot change one element"
      ],
      "execution_count": 42,
      "outputs": [
        {
          "output_type": "error",
          "ename": "TypeError",
          "evalue": "ignored",
          "traceback": [
            "\u001b[0;31m---------------------------------------------------------------------------\u001b[0m",
            "\u001b[0;31mTypeError\u001b[0m                                 Traceback (most recent call last)",
            "\u001b[0;32m<ipython-input-42-5f2e1a0a62b0>\u001b[0m in \u001b[0;36m<module>\u001b[0;34m()\u001b[0m\n\u001b[0;32m----> 1\u001b[0;31m \u001b[0mmystring\u001b[0m\u001b[0;34m[\u001b[0m\u001b[0;36m0\u001b[0m\u001b[0;34m]\u001b[0m \u001b[0;34m=\u001b[0m \u001b[0;34m'D'\u001b[0m\u001b[0;34m\u001b[0m\u001b[0;34m\u001b[0m\u001b[0m\n\u001b[0m",
            "\u001b[0;31mTypeError\u001b[0m: 'str' object does not support item assignment"
          ]
        }
      ]
    },
    {
      "cell_type": "markdown",
      "metadata": {
        "id": "WuueqcdPCYvl",
        "colab_type": "text"
      },
      "source": [
        "We can however assign a new string"
      ]
    },
    {
      "cell_type": "code",
      "metadata": {
        "id": "vsgOKYLoB1Ll",
        "colab_type": "code",
        "colab": {
          "base_uri": "https://localhost:8080/",
          "height": 51
        },
        "outputId": "ee918611-ccd5-4774-d47d-dbe72d1d5680"
      },
      "source": [
        "print(mystring)\n",
        "mystring = 'My new world'\n",
        "print(mystring)"
      ],
      "execution_count": 44,
      "outputs": [
        {
          "output_type": "stream",
          "text": [
            "My new world\n",
            "My new world\n"
          ],
          "name": "stdout"
        }
      ]
    },
    {
      "cell_type": "code",
      "metadata": {
        "id": "k6mvmhQqCgNT",
        "colab_type": "code",
        "colab": {}
      },
      "source": [
        ""
      ],
      "execution_count": 0,
      "outputs": []
    }
  ]
}